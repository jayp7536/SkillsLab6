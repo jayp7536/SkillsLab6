{
 "cells": [
  {
   "cell_type": "code",
   "execution_count": 3,
   "metadata": {},
   "outputs": [
    {
     "name": "stdin",
     "output_type": "stream",
     "text": [
      "Enter your name:  Jay \n",
      "Enter your age:  18\n"
     ]
    },
    {
     "name": "stdout",
     "output_type": "stream",
     "text": [
      "Jay  You are not allowed to drink and smoke\n"
     ]
    }
   ],
   "source": [
    "name = (input(\"Enter your name: \"))\n",
    "age = int(input(\"Enter your age: \"))\n",
    "\n",
    "if age >= 21:\n",
    "        print(name + \" You are allowed to drink and smoke. Please Exercise cation.\")\n",
    "\n",
    "else:\n",
    "    print(name + \" You are not allowed to drink and smoke\")\n",
    "\n"
   ]
  },
  {
   "cell_type": "code",
   "execution_count": null,
   "metadata": {},
   "outputs": [],
   "source": []
  }
 ],
 "metadata": {
  "kernelspec": {
   "display_name": "Python 3",
   "language": "python",
   "name": "python3"
  },
  "language_info": {
   "codemirror_mode": {
    "name": "ipython",
    "version": 3
   },
   "file_extension": ".py",
   "mimetype": "text/x-python",
   "name": "python",
   "nbconvert_exporter": "python",
   "pygments_lexer": "ipython3",
   "version": "3.8.3"
  }
 },
 "nbformat": 4,
 "nbformat_minor": 4
}
